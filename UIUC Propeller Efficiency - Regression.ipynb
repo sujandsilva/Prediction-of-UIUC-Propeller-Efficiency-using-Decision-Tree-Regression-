{
 "cells": [
  {
   "cell_type": "code",
   "execution_count": 17,
   "id": "ab75fa14",
   "metadata": {},
   "outputs": [
    {
     "name": "stdout",
     "output_type": "stream",
     "text": [
      "Accuracy: 0.998048737741979\n"
     ]
    }
   ],
   "source": [
    "import os\n",
    "import pandas as pd\n",
    "from sklearn.model_selection import train_test_split\n",
    "\n",
    "# Specify the target variable\n",
    "target_column = 'CT'  \n",
    "base_path = 'C:\\\\Users\\\\admin\\\\OneDrive\\\\Desktop\\\\ML projects\\\\UIUC Propeller\\\\archive (1)'\n",
    "feature_columns = ['B', 'D', 'P', 'J', 'N', 'c/R', 'r/R', 'beta']\n",
    "output_columns = ['CT', 'CP', 'eta']\n",
    "\n",
    "# Load geometric data\n",
    "geometry1_path = os.path.join(base_path, 'volume1_geom.csv')\n",
    "geometry2_path = os.path.join(base_path, 'volume2_geom.csv')\n",
    "geometry3_path = os.path.join(base_path, 'volume3_geom.csv')\n",
    "\n",
    "geometry1_df = pd.read_csv(geometry1_path)\n",
    "geometry2_df = pd.read_csv(geometry2_path)\n",
    "geometry3_df = pd.read_csv(geometry3_path)\n",
    "\n",
    "geometry_df = pd.concat([geometry1_df, geometry2_df, geometry3_df], ignore_index=True)\n",
    "\n",
    "# Load performance data\n",
    "performance1_path = os.path.join(base_path, 'volume1_exp.csv')\n",
    "performance2_path = os.path.join(base_path, 'volume2_exp.csv')\n",
    "performance3_path = os.path.join(base_path, 'volume3_exp.csv')\n",
    "\n",
    "performance1_df = pd.read_csv(performance1_path)\n",
    "performance2_df = pd.read_csv(performance2_path)\n",
    "performance3_df = pd.read_csv(performance3_path)\n",
    "\n",
    "performance_df = pd.concat([performance1_df, performance2_df, performance3_df], ignore_index=True)\n",
    "\n",
    "# Merge the geometric and performance dataframes\n",
    "merged_df = performance_df.merge(geometry_df, on=['BladeName', 'D', 'P', 'Family'])\n",
    "\n",
    "# Separate the features and target\n",
    "features = merged_df[feature_columns].values\n",
    "outputs = merged_df[output_columns].values\n",
    "\n",
    "# Extract the target variable\n",
    "target_values = outputs[:, output_columns.index(target_column)]\n",
    "\n",
    "# Split the data into training and testing sets\n",
    "X_train, X_test, y_train, y_test = train_test_split(features, target_values, test_size=0.2, random_state=42)\n",
    "\n",
    "# Initialize and train the model\n",
    "from sklearn.tree import DecisionTreeRegressor\n",
    "from sklearn.metrics import mean_absolute_error, mean_squared_error, r2_score\n",
    "\n",
    "# Model initialization\n",
    "regressor = DecisionTreeRegressor()\n",
    "\n",
    "# Training the model\n",
    "regressor.fit(X_train, y_train)\n",
    "\n",
    "# Making predictions\n",
    "predictions = regressor.predict(X_test)\n",
    "\n",
    "# Calculate performance metrics\n",
    "accuracy = r2_score(y_test, predictions)\n",
    "\n",
    "print('Accuracy:', accuracy)\n"
   ]
  },
  {
   "cell_type": "code",
   "execution_count": null,
   "id": "534cdc1c",
   "metadata": {},
   "outputs": [],
   "source": []
  }
 ],
 "metadata": {
  "kernelspec": {
   "display_name": "Python 3 (ipykernel)",
   "language": "python",
   "name": "python3"
  },
  "language_info": {
   "codemirror_mode": {
    "name": "ipython",
    "version": 3
   },
   "file_extension": ".py",
   "mimetype": "text/x-python",
   "name": "python",
   "nbconvert_exporter": "python",
   "pygments_lexer": "ipython3",
   "version": "3.11.5"
  }
 },
 "nbformat": 4,
 "nbformat_minor": 5
}
